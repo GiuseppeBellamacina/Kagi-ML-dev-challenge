{
 "cells": [
  {
   "cell_type": "code",
   "execution_count": 1,
   "metadata": {},
   "outputs": [],
   "source": [
    "import os\n",
    "import time\n",
    "import warnings\n",
    "import weaviate\n",
    "from weaviate.classes.init import Auth\n",
    "from langchain_weaviate import WeaviateVectorStore\n",
    "from langchain_huggingface import HuggingFaceEmbeddings\n",
    "from langchain_core.documents import Document\n",
    "from dotenv import load_dotenv, find_dotenv\n",
    "from tqdm.notebook import tqdm\n",
    "from pprint import pprint\n",
    "import pandas as pd"
   ]
  },
  {
   "cell_type": "code",
   "execution_count": 3,
   "metadata": {},
   "outputs": [
    {
     "data": {
      "text/plain": [
       "True"
      ]
     },
     "execution_count": 3,
     "metadata": {},
     "output_type": "execute_result"
    }
   ],
   "source": [
    "load_dotenv(find_dotenv())"
   ]
  },
  {
   "cell_type": "code",
   "execution_count": 4,
   "metadata": {},
   "outputs": [],
   "source": [
    "# Configurazione dell'embedder\n",
    "model = 'sentence-transformers/all-mpnet-base-v2'\n",
    "embedder = HuggingFaceEmbeddings(model_name=model, model_kwargs={'device': 'cuda'})"
   ]
  },
  {
   "cell_type": "code",
   "execution_count": 6,
   "metadata": {},
   "outputs": [],
   "source": [
    "# Creazione del DataFrame\n",
    "df = pd.read_csv('../data/story_cleaned.csv')"
   ]
  },
  {
   "cell_type": "code",
   "execution_count": 7,
   "metadata": {},
   "outputs": [
    {
     "name": "stdout",
     "output_type": "stream",
     "text": [
      "Length of documents:  1632537\n",
      "Example of document:  page_content='Dead Duck Day marks that time a scientist witnessed gay duck necrophilia' metadata={'url': 'https://arstechnica.com/science/2023/06/dead-duck-day-marks-that-time-a-scientist-witnessed-gay-duck-necrophilia/', 'hn_id': 36204593}\n"
     ]
    }
   ],
   "source": [
    "records = df.to_dict('records')\n",
    "\n",
    "documents = [\n",
    "    Document(page_content=f\"{s['title']}\", metadata={'url': s['url'], 'hn_id': s['id']})\n",
    "    for s in records\n",
    "]\n",
    "print(\"Length of documents: \", len(documents))\n",
    "print(\"Example of document: \", documents[0])"
   ]
  },
  {
   "cell_type": "code",
   "execution_count": 8,
   "metadata": {},
   "outputs": [
    {
     "name": "stdout",
     "output_type": "stream",
     "text": [
      "Number of batches:  824\n"
     ]
    }
   ],
   "source": [
    "def batch(chunks, n_max=10000):\n",
    "    batches = []\n",
    "    current_batch = []\n",
    "    count = 0\n",
    "\n",
    "    for c in chunks:\n",
    "        chunk_length = len(c.page_content)\n",
    "        \n",
    "        if count + chunk_length >= n_max:\n",
    "            batches.append(current_batch)\n",
    "            current_batch = [c]\n",
    "            count = chunk_length\n",
    "        else:\n",
    "            current_batch.append(c)\n",
    "            count += chunk_length\n",
    "\n",
    "    if current_batch:\n",
    "        batches.append(current_batch)\n",
    "    \n",
    "    return batches\n",
    "\n",
    "batches = batch(documents, n_max=100000)\n",
    "print(\"Number of batches: \", len(batches))"
   ]
  },
  {
   "cell_type": "code",
   "execution_count": 9,
   "metadata": {},
   "outputs": [
    {
     "name": "stdout",
     "output_type": "stream",
     "text": [
      "True\n"
     ]
    }
   ],
   "source": [
    "# Best practice: store your credentials in environment variables\n",
    "weaviate_url = os.environ[\"WEAVIATE_URL\"]\n",
    "weaviate_api_key = os.environ[\"WEAVIATE_API_KEY\"]\n",
    "\n",
    "# Connect to Weaviate Cloud\n",
    "client = weaviate.connect_to_weaviate_cloud(\n",
    "    cluster_url=weaviate_url,\n",
    "    auth_credentials=Auth.api_key(weaviate_api_key),\n",
    ")\n",
    "\n",
    "print(client.is_ready())"
   ]
  },
  {
   "cell_type": "code",
   "execution_count": null,
   "metadata": {},
   "outputs": [],
   "source": [
    "first_batch = batches[0]\n",
    "db = WeaviateVectorStore.from_documents(first_batch, embedder, client=client)\n",
    "\n",
    "#db = WeaviateVectorStore(\n",
    "#    client=client,\n",
    "#    index_name=os.getenv(\"WEAVIATE_INDEX_NAME\"),\n",
    "#    text_key=\"text\",\n",
    "#    embedding=embedder\n",
    "#)"
   ]
  },
  {
   "cell_type": "code",
   "execution_count": 11,
   "metadata": {},
   "outputs": [
    {
     "data": {
      "application/vnd.jupyter.widget-view+json": {
       "model_id": "7dc1acc7c798471c825d182b76f77ade",
       "version_major": 2,
       "version_minor": 0
      },
      "text/plain": [
       "Adding batches to Weaviate Cloud:   0%|          | 0/150 [00:00<?, ?it/s]"
      ]
     },
     "metadata": {},
     "output_type": "display_data"
    },
    {
     "name": "stdout",
     "output_type": "stream",
     "text": [
      "Number of failed batches: 0\n"
     ]
    }
   ],
   "source": [
    "other_batches = batches[1:]\n",
    "\n",
    "failed_batches = []\n",
    "\n",
    "for batch_docs in tqdm(other_batches[:150], desc=\"Adding batches to Weaviate Cloud\"):\n",
    "    success = False\n",
    "    retries = 3\n",
    "    while not success and retries > 0:\n",
    "        try:\n",
    "            with warnings.catch_warnings():\n",
    "                warnings.simplefilter(\"ignore\")\n",
    "                db.add_documents(batch_docs)\n",
    "            success = True\n",
    "        except Exception as e:\n",
    "            print(f\"Error: {e}\")\n",
    "            retries -= 1\n",
    "            if retries > 0:\n",
    "                print(\"Retrying...\")\n",
    "                time.sleep(5)  # wait for 5 seconds before retrying\n",
    "            else:\n",
    "                print(\"Failed to add documents after multiple retries.\")\n",
    "                failed_batches.append(batch_docs)\n",
    "\n",
    "print(f\"Number of failed batches: {len(failed_batches)}\")"
   ]
  },
  {
   "cell_type": "code",
   "execution_count": 12,
   "metadata": {},
   "outputs": [],
   "source": [
    "while failed_batches:\n",
    "    batch_docs = failed_batches.pop()\n",
    "    print(\"\\33[0;33mRemaining failed batches\\33[0m: \", len(failed_batches))\n",
    "    success = False\n",
    "    retries = 3\n",
    "    while not success and retries > 0:\n",
    "        try:\n",
    "            with warnings.catch_warnings():\n",
    "                warnings.simplefilter(\"ignore\")\n",
    "                db.add_documents(batch_docs)\n",
    "            success = True\n",
    "        except Exception as e:\n",
    "            print(f\"Error: {e}\")\n",
    "            retries -= 1\n",
    "            if retries > 0:\n",
    "                print(\"Retrying...\")\n",
    "                time.sleep(5)  # wait for 5 seconds before retrying\n",
    "            else:\n",
    "                print(\"Failed to add documents after multiple retries.\")\n",
    "                failed_batches.append(batch_docs)"
   ]
  },
  {
   "cell_type": "code",
   "execution_count": 13,
   "metadata": {},
   "outputs": [
    {
     "name": "stdout",
     "output_type": "stream",
     "text": [
      "Length of res:  500\n",
      "Document(metadata={'hn_id': 33605559.0, 'url': 'https://ithinkbiology.in'}, page_content='iThink Biology')\n",
      "Document(metadata={'hn_id': 34985029.0, 'url': 'https://cell.substack.com/p/burrito-biology'}, page_content='Biology Is a Burrito')\n",
      "Document(metadata={'hn_id': 34107280.0, 'url': 'https://www.quantamagazine.org/major-biology-discoveries-from-2022-20221221'}, page_content='The Year in Biology')\n",
      "Document(metadata={'hn_id': 31721499.0, 'url': 'https://science.xyz//'}, page_content='Science')\n",
      "Document(metadata={'hn_id': 31075753.0, 'url': 'https://www.nybooks.com/articles/2022/04/21/why-biology-is-not-destiny-genetic-lottery-kathryn-harden/'}, page_content='Why Biology Is Not Destiny')\n"
     ]
    }
   ],
   "source": [
    "if client.is_ready():\n",
    "    res = await db.asimilarity_search(\"biology\", k=500)\n",
    "    print(\"Length of res: \", len(res))\n",
    "    for r in res[:5]:\n",
    "        pprint(r)\n",
    "else:\n",
    "    print(\"Weaviate is not ready yet.\")"
   ]
  }
 ],
 "metadata": {
  "kernelspec": {
   "display_name": "Python 3",
   "language": "python",
   "name": "python3"
  },
  "language_info": {
   "codemirror_mode": {
    "name": "ipython",
    "version": 3
   },
   "file_extension": ".py",
   "mimetype": "text/x-python",
   "name": "python",
   "nbconvert_exporter": "python",
   "pygments_lexer": "ipython3",
   "version": "3.11.11"
  }
 },
 "nbformat": 4,
 "nbformat_minor": 2
}
