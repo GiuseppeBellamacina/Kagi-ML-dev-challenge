{
 "cells": [
  {
   "cell_type": "code",
   "execution_count": 1,
   "metadata": {},
   "outputs": [],
   "source": [
    "import pandas as pd"
   ]
  },
  {
   "cell_type": "code",
   "execution_count": 2,
   "metadata": {},
   "outputs": [
    {
     "name": "stdout",
     "output_type": "stream",
     "text": [
      "4010957\n",
      "3767008\n"
     ]
    }
   ],
   "source": [
    "df = pd.read_csv('story.csv')\n",
    "print(len(df))\n",
    "df = df.dropna()\n",
    "print(len(df))"
   ]
  },
  {
   "cell_type": "code",
   "execution_count": 3,
   "metadata": {},
   "outputs": [
    {
     "name": "stdout",
     "output_type": "stream",
     "text": [
      "1938621\n"
     ]
    }
   ],
   "source": [
    "# remove all urls which are not https\n",
    "df = df[df['url'].str.contains('https')]\n",
    "print(len(df))"
   ]
  },
  {
   "cell_type": "code",
   "execution_count": 4,
   "metadata": {},
   "outputs": [
    {
     "name": "stdout",
     "output_type": "stream",
     "text": [
      "1632584\n"
     ]
    }
   ],
   "source": [
    "# delete all url duplicates\n",
    "df = df.drop_duplicates(subset='url')\n",
    "print(len(df))"
   ]
  },
  {
   "cell_type": "code",
   "execution_count": 5,
   "metadata": {},
   "outputs": [
    {
     "name": "stdout",
     "output_type": "stream",
     "text": [
      "               id                                              title  \\\n",
      "1396875  36204593  Dead Duck Day marks that time a scientist witn...   \n",
      "3172683  36204589  Surf Air Moves Ahead on Going Public via Direc...   \n",
      "2700235  36204574  Dutch Cabinet wants minimum 15% corporate tax ...   \n",
      "474918   36204503  Detecting Threats on 100k Servers, 1000s of Cl...   \n",
      "3357261  36204453  Tutorial: Teaching and Learning Compilers Incr...   \n",
      "1215563  36204438  Show HN: GPU Watch – Get notified once cloud G...   \n",
      "3423205  36204408  AI should be licensed like medicines or nuclea...   \n",
      "1159182  36204343                 The Docker CheatSheet for Everyone   \n",
      "3013552  36204303  Will there be a lite version of the Apple Visi...   \n",
      "575412   36204298  Apple partners with Unity to bring Unity apps ...   \n",
      "\n",
      "                                                       url  score        time  \\\n",
      "1396875  https://arstechnica.com/science/2023/06/dead-d...      1  1686002611   \n",
      "3172683  https://www.bloomberg.com/news/articles/2023-0...      1  1686002603   \n",
      "2700235  https://nltimes.nl/2023/06/04/dutch-cabinet-wa...      1  1686002552   \n",
      "474918   https://www.deepfence.io/blog/scaling-threatma...      1  1686002294   \n",
      "3357261  https://iucompilercourse.github.io/tutorial-we...      1  1686002102   \n",
      "1215563                      https://gpu-watch.vercel.app/      1  1686002058   \n",
      "3423205  https://www.theguardian.com/technology/2023/ju...      1  1686001946   \n",
      "1159182  https://blog.cloudnativefolks.org/the-ultimate...      1  1686001681   \n",
      "3013552  https://visionproinfo.com/will-there-be-a-lite...      1  1686001536   \n",
      "575412   https://blog.vuplex.com/apple-vision-pro-unity...      1  1686001519   \n",
      "\n",
      "         comments          author  \n",
      "1396875         0      quantified  \n",
      "3172683         0  JumpCrisscross  \n",
      "2700235         0          belter  \n",
      "474918          1        sangam14  \n",
      "3357261         0          matt_d  \n",
      "1215563         0         subtech  \n",
      "3423205         0       mjreacher  \n",
      "1159182         0        sangam14  \n",
      "3013552         0     tjdiehhhhhh  \n",
      "575412          0      binarynate  \n"
     ]
    }
   ],
   "source": [
    "# order by time from newest to oldest\n",
    "df = df.sort_values(by='time', ascending=False)\n",
    "print(df.head(10))"
   ]
  },
  {
   "cell_type": "code",
   "execution_count": 6,
   "metadata": {},
   "outputs": [
    {
     "name": "stdout",
     "output_type": "stream",
     "text": [
      "               id                                              title  \\\n",
      "1396875  36204593  Dead Duck Day marks that time a scientist witn...   \n",
      "3172683  36204589  Surf Air Moves Ahead on Going Public via Direc...   \n",
      "2700235  36204574  Dutch Cabinet wants minimum 15% corporate tax ...   \n",
      "474918   36204503  Detecting Threats on 100k Servers, 1000s of Cl...   \n",
      "3357261  36204453  Tutorial: Teaching and Learning Compilers Incr...   \n",
      "1215563  36204438  Show HN: GPU Watch – Get notified once cloud G...   \n",
      "3423205  36204408  AI should be licensed like medicines or nuclea...   \n",
      "1159182  36204343                 The Docker CheatSheet for Everyone   \n",
      "3013552  36204303  Will there be a lite version of the Apple Visi...   \n",
      "575412   36204298  Apple partners with Unity to bring Unity apps ...   \n",
      "\n",
      "                                                       url  score        time  \\\n",
      "1396875  https://arstechnica.com/science/2023/06/dead-d...      1  1686002611   \n",
      "3172683  https://www.bloomberg.com/news/articles/2023-0...      1  1686002603   \n",
      "2700235  https://nltimes.nl/2023/06/04/dutch-cabinet-wa...      1  1686002552   \n",
      "474918   https://www.deepfence.io/blog/scaling-threatma...      1  1686002294   \n",
      "3357261  https://iucompilercourse.github.io/tutorial-we...      1  1686002102   \n",
      "1215563                      https://gpu-watch.vercel.app/      1  1686002058   \n",
      "3423205  https://www.theguardian.com/technology/2023/ju...      1  1686001946   \n",
      "1159182  https://blog.cloudnativefolks.org/the-ultimate...      1  1686001681   \n",
      "3013552  https://visionproinfo.com/will-there-be-a-lite...      1  1686001536   \n",
      "575412   https://blog.vuplex.com/apple-vision-pro-unity...      1  1686001519   \n",
      "\n",
      "         comments  \n",
      "1396875         0  \n",
      "3172683         0  \n",
      "2700235         0  \n",
      "474918          1  \n",
      "3357261         0  \n",
      "1215563         0  \n",
      "3423205         0  \n",
      "1159182         0  \n",
      "3013552         0  \n",
      "575412          0  \n"
     ]
    }
   ],
   "source": [
    "# drop author column\n",
    "df = df.drop(columns=['author'])\n",
    "print(df.head(10))"
   ]
  },
  {
   "cell_type": "code",
   "execution_count": 7,
   "metadata": {},
   "outputs": [
    {
     "name": "stdout",
     "output_type": "stream",
     "text": [
      "1632537\n"
     ]
    }
   ],
   "source": [
    "# delete all rows with score 0\n",
    "df = df[df['score'] != 0]\n",
    "print(len(df))"
   ]
  },
  {
   "cell_type": "code",
   "execution_count": 8,
   "metadata": {},
   "outputs": [
    {
     "name": "stdout",
     "output_type": "stream",
     "text": [
      "               id                                              title  \\\n",
      "1396875  36204593  Dead Duck Day marks that time a scientist witn...   \n",
      "3172683  36204589  Surf Air Moves Ahead on Going Public via Direc...   \n",
      "2700235  36204574  Dutch Cabinet wants minimum 15% corporate tax ...   \n",
      "474918   36204503  Detecting Threats on 100k Servers, 1000s of Cl...   \n",
      "3357261  36204453  Tutorial: Teaching and Learning Compilers Incr...   \n",
      "1215563  36204438  Show HN: GPU Watch – Get notified once cloud G...   \n",
      "3423205  36204408  AI should be licensed like medicines or nuclea...   \n",
      "1159182  36204343                 The Docker CheatSheet for Everyone   \n",
      "3013552  36204303  Will there be a lite version of the Apple Visi...   \n",
      "575412   36204298  Apple partners with Unity to bring Unity apps ...   \n",
      "\n",
      "                                                       url  \n",
      "1396875  https://arstechnica.com/science/2023/06/dead-d...  \n",
      "3172683  https://www.bloomberg.com/news/articles/2023-0...  \n",
      "2700235  https://nltimes.nl/2023/06/04/dutch-cabinet-wa...  \n",
      "474918   https://www.deepfence.io/blog/scaling-threatma...  \n",
      "3357261  https://iucompilercourse.github.io/tutorial-we...  \n",
      "1215563                      https://gpu-watch.vercel.app/  \n",
      "3423205  https://www.theguardian.com/technology/2023/ju...  \n",
      "1159182  https://blog.cloudnativefolks.org/the-ultimate...  \n",
      "3013552  https://visionproinfo.com/will-there-be-a-lite...  \n",
      "575412   https://blog.vuplex.com/apple-vision-pro-unity...  \n"
     ]
    }
   ],
   "source": [
    "# drop score, time and comments columns\n",
    "df = df.drop(columns=['score', 'time', 'comments'])\n",
    "print(df.head(10))"
   ]
  },
  {
   "cell_type": "code",
   "execution_count": null,
   "metadata": {},
   "outputs": [],
   "source": [
    "# save the result to a new csv file\n",
    "df.to_csv('story_cleaned.csv', index=False)"
   ]
  }
 ],
 "metadata": {
  "kernelspec": {
   "display_name": "ai",
   "language": "python",
   "name": "python3"
  },
  "language_info": {
   "codemirror_mode": {
    "name": "ipython",
    "version": 3
   },
   "file_extension": ".py",
   "mimetype": "text/x-python",
   "name": "python",
   "nbconvert_exporter": "python",
   "pygments_lexer": "ipython3",
   "version": "3.11.11"
  }
 },
 "nbformat": 4,
 "nbformat_minor": 2
}
